{
 "cells": [
  {
   "cell_type": "code",
   "execution_count": null,
   "metadata": {},
   "outputs": [],
   "source": [
    "# -*- coding: utf-8 -*-\n",
    "\"\"\"\n",
    "Created on Fri May 29 13:57:27 2020\n",
    "\n",
    "@author: Johannes Heyn\n",
    "\"\"\""
   ]
  },
  {
   "cell_type": "code",
   "execution_count": 1,
   "metadata": {},
   "outputs": [],
   "source": [
    "from cleanup import replace_missing_list_column_values, one_hot_encode_genres, breakdown_publish_date\n",
    "import pandas as pd"
   ]
  },
  {
   "cell_type": "code",
   "execution_count": 54,
   "metadata": {},
   "outputs": [],
   "source": [
    "filenames = [\"data/all_books_popularByDate2.jl\"]\n",
    "output = \"data/all_books_popularByDate.csv\""
   ]
  },
  {
   "cell_type": "code",
   "execution_count": 45,
   "metadata": {},
   "outputs": [
    {
     "name": "stdout",
     "output_type": "stream",
     "text": [
      "                                                 url               title  \\\n",
      "0  https://www.goodreads.com/book/show/38260251-t...     Tangled Like Us   \n",
      "1  https://www.goodreads.com/book/show/44094817-t...  The Castle Mystery   \n",
      "2  https://www.goodreads.com/book/show/36300682-w...  When You Read This   \n",
      "3  https://www.goodreads.com/book/show/50212494-t...       The Flatshare   \n",
      "4  https://www.goodreads.com/book/show/46006080-t...            Too Many   \n",
      "\n",
      "           author  num_ratings  num_reviews  avg_rating  num_pages language  \\\n",
      "0  Krista Ritchie         3506          510        4.08      484.0  English   \n",
      "1      Joyce Cato         2567          153        4.28      219.0  English   \n",
      "2    Mary  Adkins         3079          633        3.58      400.0      NaN   \n",
      "3    Beth O'Leary        71110        10764        4.13      336.0  English   \n",
      "4     Alexa Riley         2852          268        3.77       71.0      NaN   \n",
      "\n",
      "          publish_date                                             genres  \\\n",
      "0  2019-01-17 00:00:00  [New Adult, Romance, Contemporary Romance, Con...   \n",
      "1  2019-02-27 00:00:00                     [Cozy Mystery, Mystery, Crime]   \n",
      "2  2019-02-05 00:00:00  [Chick Lit, Fiction, Contemporary, Womens Fict...   \n",
      "3  2019-04-10 00:00:00  [Audiobook, Chick Lit, Fiction, Romance, Conte...   \n",
      "4  2019-05-23 00:00:00  [Romance, Menage, M F M, Erotica, Adult Fictio...   \n",
      "\n",
      "                        characters             series        asin  \\\n",
      "0  [Jane Cobalt, Thatcher Moretti]         Like Us #4  B07JLLFFSX   \n",
      "1                              NaN  Jenny Starling #4  B07NWV6LVD   \n",
      "2                              NaN                NaN         NaN   \n",
      "3                              NaN                NaN  B07DCZ7LM4   \n",
      "4                              NaN      Too Series #2  B07SBHPPN7   \n",
      "\n",
      "                                    rating_histogram  original_publish_year  \\\n",
      "0  {'5': 1483, '4': 1164, '3': 611, '2': 159, '1'...                    NaN   \n",
      "1  {'5': 1250, '4': 878, '3': 365, '2': 59, '1': 15}                 2012.0   \n",
      "2  {'5': 434, '4': 1267, '3': 1082, '2': 257, '1'...                    NaN   \n",
      "3  {'5': 26969, '4': 29723, '3': 11643, '2': 2121...                    NaN   \n",
      "4  {'5': 957, '4': 772, '3': 737, '2': 275, '1': ...                    NaN   \n",
      "\n",
      "         isbn        isbn13  \\\n",
      "0         NaN           NaN   \n",
      "1         NaN           NaN   \n",
      "2  62834703.0  9.780063e+12   \n",
      "3         NaN           NaN   \n",
      "4         NaN           NaN   \n",
      "\n",
      "                                              awards places  \n",
      "0                                                NaN    NaN  \n",
      "1                                                NaN    NaN  \n",
      "2                                                NaN    NaN  \n",
      "3  [Goodreads Choice Award Nominee for Romance (2...    NaN  \n",
      "4                                                NaN    NaN  \n"
     ]
    }
   ],
   "source": [
    "dfs = [pd.read_json(filename, lines=True) for filename in filenames]\n",
    "df = pd.concat(dfs)\n",
    "df = df.drop_duplicates(subset=['url'])\n",
    "print(df.head())"
   ]
  },
  {
   "cell_type": "code",
   "execution_count": 46,
   "metadata": {},
   "outputs": [
    {
     "name": "stdout",
     "output_type": "stream",
     "text": [
      "<class 'pandas.core.frame.DataFrame'>\n",
      "Int64Index: 4620 entries, 0 to 5643\n",
      "Data columns (total 19 columns):\n",
      " #   Column                 Non-Null Count  Dtype  \n",
      "---  ------                 --------------  -----  \n",
      " 0   url                    4620 non-null   object \n",
      " 1   title                  4619 non-null   object \n",
      " 2   author                 4620 non-null   object \n",
      " 3   num_ratings            4620 non-null   int64  \n",
      " 4   num_reviews            4620 non-null   int64  \n",
      " 5   avg_rating             4620 non-null   float64\n",
      " 6   num_pages              4047 non-null   float64\n",
      " 7   language               3122 non-null   object \n",
      " 8   publish_date           3654 non-null   object \n",
      " 9   genres                 4151 non-null   object \n",
      " 10  characters             312 non-null    object \n",
      " 11  series                 1675 non-null   object \n",
      " 12  asin                   1116 non-null   object \n",
      " 13  rating_histogram       3712 non-null   object \n",
      " 14  original_publish_year  789 non-null    float64\n",
      " 15  isbn                   2662 non-null   float64\n",
      " 16  isbn13                 3048 non-null   float64\n",
      " 17  awards                 613 non-null    object \n",
      " 18  places                 452 non-null    object \n",
      "dtypes: float64(5), int64(2), object(12)\n",
      "memory usage: 721.9+ KB\n",
      "None\n"
     ]
    }
   ],
   "source": [
    "print(df.info())"
   ]
  },
  {
   "cell_type": "code",
   "execution_count": 47,
   "metadata": {},
   "outputs": [],
   "source": [
    "replace_missing_list_column_values(df, 'genres')\n",
    "replace_missing_list_column_values(df, 'awards')\n",
    "replace_missing_list_column_values(df, 'publish_date')\n",
    "replace_missing_list_column_values(df, 'num_ratings')\n",
    "replace_missing_list_column_values(df, 'num_reviews')\n",
    "replace_missing_list_column_values(df, 'avg_rating')\n",
    "replace_missing_list_column_values(df, 'num_pages')\n",
    "replace_missing_list_column_values(df, 'awards')\n",
    "replace_missing_list_column_values(df, 'original_publish_year')\n",
    "replace_missing_list_column_values(df, 'series')\n",
    "replace_missing_list_column_values(df, 'language')\n",
    "replace_missing_list_column_values(df, 'places')\n",
    "replace_missing_list_column_values(df, 'isbn')\n",
    "replace_missing_list_column_values(df, 'isbn13')\n",
    "replace_missing_list_column_values(df, 'series')\n",
    "replace_missing_list_column_values(df, 'title')\n",
    "replace_missing_list_column_values(df, 'author')\n",
    "replace_missing_list_column_values(df, 'asin')"
   ]
  },
  {
   "cell_type": "code",
   "execution_count": 48,
   "metadata": {},
   "outputs": [],
   "source": [
    "#df['num_awards'] = df['awards'].apply(len)\n",
    "#one_hot_encode_genres(df)"
   ]
  },
  {
   "cell_type": "code",
   "execution_count": 49,
   "metadata": {},
   "outputs": [
    {
     "name": "stdout",
     "output_type": "stream",
     "text": [
      "                                                 url               title  \\\n",
      "0  https://www.goodreads.com/book/show/38260251-t...     Tangled Like Us   \n",
      "1  https://www.goodreads.com/book/show/44094817-t...  The Castle Mystery   \n",
      "2  https://www.goodreads.com/book/show/36300682-w...  When You Read This   \n",
      "3  https://www.goodreads.com/book/show/50212494-t...       The Flatshare   \n",
      "4  https://www.goodreads.com/book/show/46006080-t...            Too Many   \n",
      "\n",
      "           author num_ratings num_reviews avg_rating num_pages language  \\\n",
      "0  Krista Ritchie        3506         510       4.08       484  English   \n",
      "1      Joyce Cato        2567         153       4.28       219  English   \n",
      "2    Mary  Adkins        3079         633       3.58       400       []   \n",
      "3    Beth O'Leary       71110       10764       4.13       336  English   \n",
      "4     Alexa Riley        2852         268       3.77        71       []   \n",
      "\n",
      "          publish_date                                             genres  \\\n",
      "0  2019-01-17 00:00:00  [New Adult, Romance, Contemporary Romance, Con...   \n",
      "1  2019-02-27 00:00:00                     [Cozy Mystery, Mystery, Crime]   \n",
      "2  2019-02-05 00:00:00  [Chick Lit, Fiction, Contemporary, Womens Fict...   \n",
      "3  2019-04-10 00:00:00  [Audiobook, Chick Lit, Fiction, Romance, Conte...   \n",
      "4  2019-05-23 00:00:00  [Romance, Menage, M F M, Erotica, Adult Fictio...   \n",
      "\n",
      "                        characters             series        asin  \\\n",
      "0  [Jane Cobalt, Thatcher Moretti]         Like Us #4  B07JLLFFSX   \n",
      "1                              NaN  Jenny Starling #4  B07NWV6LVD   \n",
      "2                              NaN                 []          []   \n",
      "3                              NaN                 []  B07DCZ7LM4   \n",
      "4                              NaN      Too Series #2  B07SBHPPN7   \n",
      "\n",
      "                                    rating_histogram original_publish_year  \\\n",
      "0  {'5': 1483, '4': 1164, '3': 611, '2': 159, '1'...                    []   \n",
      "1  {'5': 1250, '4': 878, '3': 365, '2': 59, '1': 15}                  2012   \n",
      "2  {'5': 434, '4': 1267, '3': 1082, '2': 257, '1'...                    []   \n",
      "3  {'5': 26969, '4': 29723, '3': 11643, '2': 2121...                    []   \n",
      "4  {'5': 957, '4': 772, '3': 737, '2': 275, '1': ...                    []   \n",
      "\n",
      "          isbn       isbn13  \\\n",
      "0           []           []   \n",
      "1           []           []   \n",
      "2  6.28347e+07  9.78006e+12   \n",
      "3           []           []   \n",
      "4           []           []   \n",
      "\n",
      "                                              awards places  \n",
      "0                                                 []     []  \n",
      "1                                                 []     []  \n",
      "2                                                 []     []  \n",
      "3  [Goodreads Choice Award Nominee for Romance (2...     []  \n",
      "4                                                 []     []  \n",
      "<class 'pandas.core.frame.DataFrame'>\n",
      "Int64Index: 4620 entries, 0 to 5643\n",
      "Data columns (total 19 columns):\n",
      " #   Column                 Non-Null Count  Dtype \n",
      "---  ------                 --------------  ----- \n",
      " 0   url                    4620 non-null   object\n",
      " 1   title                  4620 non-null   object\n",
      " 2   author                 4620 non-null   object\n",
      " 3   num_ratings            4620 non-null   object\n",
      " 4   num_reviews            4620 non-null   object\n",
      " 5   avg_rating             4620 non-null   object\n",
      " 6   num_pages              4413 non-null   object\n",
      " 7   language               4297 non-null   object\n",
      " 8   publish_date           4615 non-null   object\n",
      " 9   genres                 4556 non-null   object\n",
      " 10  characters             312 non-null    object\n",
      " 11  series                 4061 non-null   object\n",
      " 12  asin                   3767 non-null   object\n",
      " 13  rating_histogram       3712 non-null   object\n",
      " 14  original_publish_year  3759 non-null   object\n",
      " 15  isbn                   4245 non-null   object\n",
      " 16  isbn13                 4349 non-null   object\n",
      " 17  awards                 3632 non-null   object\n",
      " 18  places                 3658 non-null   object\n",
      "dtypes: object(19)\n",
      "memory usage: 721.9+ KB\n",
      "None\n"
     ]
    }
   ],
   "source": [
    "print(df.head())\n",
    "print(df.info())"
   ]
  },
  {
   "cell_type": "code",
   "execution_count": 55,
   "metadata": {},
   "outputs": [],
   "source": [
    "df.to_csv(output, index=False)"
   ]
  }
 ],
 "metadata": {
  "kernelspec": {
   "display_name": "Python 3",
   "language": "python",
   "name": "python3"
  },
  "language_info": {
   "codemirror_mode": {
    "name": "ipython",
    "version": 3
   },
   "file_extension": ".py",
   "mimetype": "text/x-python",
   "name": "python",
   "nbconvert_exporter": "python",
   "pygments_lexer": "ipython3",
   "version": "3.7.4"
  }
 },
 "nbformat": 4,
 "nbformat_minor": 4
}
