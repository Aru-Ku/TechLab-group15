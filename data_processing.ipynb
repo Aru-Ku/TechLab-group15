{
 "cells": [
  {
   "cell_type": "code",
   "execution_count": null,
   "metadata": {},
   "outputs": [],
   "source": [
    "# -*- coding: utf-8 -*-\n",
    "\"\"\"\n",
    "Created on Thu May 28 17:02:30 2020\n",
    "\n",
    "@author: Johannes Heyn, more to come\n",
    "\"\"\""
   ]
  },
  {
   "cell_type": "code",
   "execution_count": 2,
   "metadata": {},
   "outputs": [],
   "source": [
    "import pandas as pd\n",
    "import numpy as np\n",
    "import os\n",
    "import matplotlib.pyplot as plt\n",
    "import datetime"
   ]
  },
  {
   "cell_type": "code",
   "execution_count": 3,
   "metadata": {},
   "outputs": [],
   "source": [
    "filename = \"books_popularByDate.csv\"\n",
    "base_dir = \".\"\n",
    "data_dir = \"data\"\n",
    "fullpath = os.path.join(base_dir, data_dir, filename)"
   ]
  },
  {
   "cell_type": "markdown",
   "metadata": {},
   "source": [
    "# Load and prepare data"
   ]
  },
  {
   "cell_type": "code",
   "execution_count": 4,
   "metadata": {},
   "outputs": [
    {
     "name": "stdout",
     "output_type": "stream",
     "text": [
      "                                                 url  \\\n",
      "0  https://www.goodreads.com/book/show/43263680-n...   \n",
      "1  https://www.goodreads.com/book/show/43522576-i...   \n",
      "2  https://www.goodreads.com/book/show/40899464-t...   \n",
      "3  https://www.goodreads.com/book/show/45033931-c...   \n",
      "4  https://www.goodreads.com/book/show/44600621-d...   \n",
      "\n",
      "                                               title            author  \\\n",
      "0                                        Ninth House     Leigh Bardugo   \n",
      "1                                   Imaginary Friend   Stephen Chbosky   \n",
      "2                           The Things We Cannot Say      Kelly Rimmer   \n",
      "3                                    Cilka's Journey  Heather   Morris   \n",
      "4  Dear Girls: Intimate Tales, Untold Secrets, & ...          Ali Wong   \n",
      "\n",
      "   num_ratings  num_reviews  avg_rating  num_pages language  \\\n",
      "0        62473        11764        4.08      459.0  English   \n",
      "1        16608         4178        3.50      705.0  English   \n",
      "2        29088         3341        4.51      448.0  English   \n",
      "3        41197         4568        4.40      352.0  English   \n",
      "4        36034         3877        3.92      240.0  English   \n",
      "\n",
      "          publish_date                                             genres  \\\n",
      "0  2019-10-08 00:00:00  ['Magic', 'Fantasy', 'New Adult', 'Mystery', '...   \n",
      "1  2019-10-01 00:00:00  ['Mystery', 'Fiction', 'Adult', 'Horror', 'Thr...   \n",
      "2  2019-10-17 00:00:00  ['War', 'Historical', 'Fiction', 'World War II...   \n",
      "3  2019-10-01 00:00:00  ['Holocaust', 'War', 'Historical', 'Fiction', ...   \n",
      "4  2019-10-15 00:00:00  ['Humor', 'Memoir', 'Audiobook', 'Autobiograph...   \n",
      "\n",
      "   ... Paranormal Cultural New Adult    War  Biography  Magic publish_year  \\\n",
      "0  ...       True    False      True  False      False   True       2019.0   \n",
      "1  ...      False    False     False  False      False  False       2019.0   \n",
      "2  ...      False    False     False   True      False  False       2019.0   \n",
      "3  ...      False    False     False   True      False  False       2019.0   \n",
      "4  ...      False    False     False  False      False  False       2019.0   \n",
      "\n",
      "   publish_month publish_day  num_awards  \n",
      "0           10.0         8.0           2  \n",
      "1           10.0         1.0           1  \n",
      "2           10.0        17.0           0  \n",
      "3           10.0         1.0           1  \n",
      "4           10.0        15.0           1  \n",
      "\n",
      "[5 rows x 53 columns]\n",
      "Index(['url', 'title', 'author', 'num_ratings', 'num_reviews', 'avg_rating',\n",
      "       'num_pages', 'language', 'publish_date', 'genres', 'awards',\n",
      "       'characters', 'places', 'series', 'isbn', 'isbn13', 'rating_histogram',\n",
      "       'original_publish_year', 'asin', 'Fiction', 'Contemporary', 'Romance',\n",
      "       'Mystery', 'Audiobook', 'Thriller', 'Adult', 'Fantasy', 'Young Adult',\n",
      "       'Historical', 'Historical Fiction', 'Mystery Thriller',\n",
      "       'Contemporary Romance', 'Nonfiction', 'Adult Fiction', 'Suspense',\n",
      "       'Womens Fiction', 'Crime', 'Literary Fiction', 'Chick Lit',\n",
      "       'Science Fiction', 'Autobiography', 'Memoir', 'LGBT', 'Paranormal',\n",
      "       'Cultural', 'New Adult', 'War', 'Biography', 'Magic', 'publish_year',\n",
      "       'publish_month', 'publish_day', 'num_awards'],\n",
      "      dtype='object')\n",
      "<class 'pandas.core.frame.DataFrame'>\n",
      "RangeIndex: 1210 entries, 0 to 1209\n",
      "Data columns (total 53 columns):\n",
      " #   Column                 Non-Null Count  Dtype  \n",
      "---  ------                 --------------  -----  \n",
      " 0   url                    1210 non-null   object \n",
      " 1   title                  1210 non-null   object \n",
      " 2   author                 1210 non-null   object \n",
      " 3   num_ratings            1210 non-null   int64  \n",
      " 4   num_reviews            1210 non-null   int64  \n",
      " 5   avg_rating             1210 non-null   float64\n",
      " 6   num_pages              1182 non-null   float64\n",
      " 7   language               878 non-null    object \n",
      " 8   publish_date           1179 non-null   object \n",
      " 9   genres                 1210 non-null   object \n",
      " 10  awards                 1210 non-null   object \n",
      " 11  characters             85 non-null     object \n",
      " 12  places                 130 non-null    object \n",
      " 13  series                 435 non-null    object \n",
      " 14  isbn                   695 non-null    float64\n",
      " 15  isbn13                 776 non-null    float64\n",
      " 16  rating_histogram       1210 non-null   object \n",
      " 17  original_publish_year  200 non-null    float64\n",
      " 18  asin                   387 non-null    object \n",
      " 19  Fiction                1210 non-null   bool   \n",
      " 20  Contemporary           1210 non-null   bool   \n",
      " 21  Romance                1210 non-null   bool   \n",
      " 22  Mystery                1210 non-null   bool   \n",
      " 23  Audiobook              1210 non-null   bool   \n",
      " 24  Thriller               1210 non-null   bool   \n",
      " 25  Adult                  1210 non-null   bool   \n",
      " 26  Fantasy                1210 non-null   bool   \n",
      " 27  Young Adult            1210 non-null   bool   \n",
      " 28  Historical             1210 non-null   bool   \n",
      " 29  Historical Fiction     1210 non-null   bool   \n",
      " 30  Mystery Thriller       1210 non-null   bool   \n",
      " 31  Contemporary Romance   1210 non-null   bool   \n",
      " 32  Nonfiction             1210 non-null   bool   \n",
      " 33  Adult Fiction          1210 non-null   bool   \n",
      " 34  Suspense               1210 non-null   bool   \n",
      " 35  Womens Fiction         1210 non-null   bool   \n",
      " 36  Crime                  1210 non-null   bool   \n",
      " 37  Literary Fiction       1210 non-null   bool   \n",
      " 38  Chick Lit              1210 non-null   bool   \n",
      " 39  Science Fiction        1210 non-null   bool   \n",
      " 40  Autobiography          1210 non-null   bool   \n",
      " 41  Memoir                 1210 non-null   bool   \n",
      " 42  LGBT                   1210 non-null   bool   \n",
      " 43  Paranormal             1210 non-null   bool   \n",
      " 44  Cultural               1210 non-null   bool   \n",
      " 45  New Adult              1210 non-null   bool   \n",
      " 46  War                    1210 non-null   bool   \n",
      " 47  Biography              1210 non-null   bool   \n",
      " 48  Magic                  1210 non-null   bool   \n",
      " 49  publish_year           1175 non-null   float64\n",
      " 50  publish_month          1175 non-null   float64\n",
      " 51  publish_day            1175 non-null   float64\n",
      " 52  num_awards             1210 non-null   int64  \n",
      "dtypes: bool(30), float64(8), int64(3), object(12)\n",
      "memory usage: 253.0+ KB\n",
      "None\n"
     ]
    }
   ],
   "source": [
    "df = pd.read_csv(fullpath)\n",
    "print(df.head())\n",
    "print(df.columns)\n",
    "print(df.info())"
   ]
  },
  {
   "cell_type": "code",
   "execution_count": 5,
   "metadata": {},
   "outputs": [
    {
     "name": "stdout",
     "output_type": "stream",
     "text": [
      "<bound method DataFrame.info of                                                     url  \\\n",
      "0     https://www.goodreads.com/book/show/43263680-n...   \n",
      "1     https://www.goodreads.com/book/show/43522576-i...   \n",
      "2     https://www.goodreads.com/book/show/40899464-t...   \n",
      "3     https://www.goodreads.com/book/show/45033931-c...   \n",
      "4     https://www.goodreads.com/book/show/44600621-d...   \n",
      "...                                                 ...   \n",
      "1205  https://www.goodreads.com/book/show/42519313-n...   \n",
      "1206  https://www.goodreads.com/book/show/43582376-t...   \n",
      "1207  https://www.goodreads.com/book/show/43925876-t...   \n",
      "1208  https://www.goodreads.com/book/show/43684727-t...   \n",
      "1209  https://www.goodreads.com/book/show/48761584-c...   \n",
      "\n",
      "                                                  title            author  \\\n",
      "0                                           Ninth House     Leigh Bardugo   \n",
      "1                                      Imaginary Friend   Stephen Chbosky   \n",
      "2                              The Things We Cannot Say      Kelly Rimmer   \n",
      "3                                       Cilka's Journey  Heather   Morris   \n",
      "4     Dear Girls: Intimate Tales, Untold Secrets, & ...          Ali Wong   \n",
      "...                                                 ...               ...   \n",
      "1205                                Nothing to See Here   Kevin    Wilson   \n",
      "1206                    The Body: A Guide for Occupants       Bill Bryson   \n",
      "1207                                 The Giver of Stars        Jojo Moyes   \n",
      "1208                                    The Grammarians   Cathleen Schine   \n",
      "1209                                  Chosen By A Beast   Miranda Bridges   \n",
      "\n",
      "      num_ratings  num_reviews  avg_rating  num_pages language  \\\n",
      "0           62473        11764        4.08      459.0  English   \n",
      "1           16608         4178        3.50      705.0  English   \n",
      "2           29088         3341        4.51      448.0  English   \n",
      "3           41197         4568        4.40      352.0  English   \n",
      "4           36034         3877        3.92      240.0  English   \n",
      "...           ...          ...         ...        ...      ...   \n",
      "1205        45712         6510        3.95      272.0  English   \n",
      "1206        19719         2815        4.32      450.0  English   \n",
      "1207       111520        12133        4.30      400.0  English   \n",
      "1208         4165          780        3.61        8.0  English   \n",
      "1209         1318          105        4.03      156.0  English   \n",
      "\n",
      "             publish_date                                             genres  \\\n",
      "0     2019-10-08 00:00:00  ['Magic', 'Fantasy', 'New Adult', 'Mystery', '...   \n",
      "1     2019-10-01 00:00:00  ['Mystery', 'Fiction', 'Adult', 'Horror', 'Thr...   \n",
      "2     2019-10-17 00:00:00  ['War', 'Historical', 'Fiction', 'World War II...   \n",
      "3     2019-10-01 00:00:00  ['Holocaust', 'War', 'Historical', 'Fiction', ...   \n",
      "4     2019-10-15 00:00:00  ['Humor', 'Memoir', 'Audiobook', 'Autobiograph...   \n",
      "...                   ...                                                ...   \n",
      "1205  2019-10-29 00:00:00  ['Magical Realism', 'Fantasy', 'Audiobook', 'F...   \n",
      "1206  2019-10-15 00:00:00  ['Health', 'Biology', 'Audiobook', 'Nonfiction...   \n",
      "1207  2019-10-08 00:00:00  ['Historical Fiction', 'Audiobook', 'Historica...   \n",
      "1208  2019-11-05 00:00:00  ['Novels', 'Contemporary', 'Historical', 'Fict...   \n",
      "1209  2019-12-16 00:00:00  ['Fantasy', 'Science Fiction', 'Aliens', 'Scie...   \n",
      "\n",
      "      ... Cultural New Adult    War Biography  Magic  publish_year  \\\n",
      "0     ...    False      True  False     False   True        2019.0   \n",
      "1     ...    False     False  False     False  False        2019.0   \n",
      "2     ...    False     False   True     False  False        2019.0   \n",
      "3     ...    False     False   True     False  False        2019.0   \n",
      "4     ...    False     False  False     False  False        2019.0   \n",
      "...   ...      ...       ...    ...       ...    ...           ...   \n",
      "1205  ...    False     False  False     False  False        2019.0   \n",
      "1206  ...    False     False  False     False  False        2019.0   \n",
      "1207  ...    False     False  False     False  False        2019.0   \n",
      "1208  ...    False     False  False     False  False        2019.0   \n",
      "1209  ...    False     False  False     False  False        2019.0   \n",
      "\n",
      "     publish_month  publish_day num_awards    age  \n",
      "0             10.0          8.0          2  233.0  \n",
      "1             10.0          1.0          1  240.0  \n",
      "2             10.0         17.0          0  224.0  \n",
      "3             10.0          1.0          1  240.0  \n",
      "4             10.0         15.0          1  226.0  \n",
      "...            ...          ...        ...    ...  \n",
      "1205          10.0         29.0          1  212.0  \n",
      "1206          10.0         15.0          1  226.0  \n",
      "1207          10.0          8.0          1  233.0  \n",
      "1208          11.0          5.0          0  205.0  \n",
      "1209          12.0         16.0          0  164.0  \n",
      "\n",
      "[1210 rows x 54 columns]>\n"
     ]
    }
   ],
   "source": [
    "df['pd_aux'] = pd.to_datetime(df['publish_date'], format = '%Y-%m-%d %H:%M:%S', errors = 'coerce')\n",
    "date_time_now = datetime.datetime.now()\n",
    "age = date_time_now - df['pd_aux']\n",
    "age = age.apply(lambda x: x.days)\n",
    "df['age'] = age\n",
    "df = df.drop('pd_aux', axis = 1)\n",
    "print(df.info)"
   ]
  },
  {
   "cell_type": "code",
   "execution_count": 6,
   "metadata": {},
   "outputs": [
    {
     "name": "stdout",
     "output_type": "stream",
     "text": [
      "             publish_date    age\n",
      "0     2019-10-08 00:00:00  233.0\n",
      "1     2019-10-01 00:00:00  240.0\n",
      "2     2019-10-17 00:00:00  224.0\n",
      "3     2019-10-01 00:00:00  240.0\n",
      "4     2019-10-15 00:00:00  226.0\n",
      "...                   ...    ...\n",
      "1205  2019-10-29 00:00:00  212.0\n",
      "1206  2019-10-15 00:00:00  226.0\n",
      "1207  2019-10-08 00:00:00  233.0\n",
      "1208  2019-11-05 00:00:00  205.0\n",
      "1209  2019-12-16 00:00:00  164.0\n",
      "\n",
      "[1210 rows x 2 columns]\n"
     ]
    }
   ],
   "source": [
    "print(df[['publish_date', 'age']])\n"
   ]
  },
  {
   "cell_type": "markdown",
   "metadata": {},
   "source": [
    "# Explore data\n",
    "## Scatter plot: num_ratings vs age of book"
   ]
  },
  {
   "cell_type": "code",
   "execution_count": 7,
   "metadata": {},
   "outputs": [
    {
     "data": {
      "image/png": "[encoded data removed]",
      "text/plain": [
       "<Figure size 432x288 with 1 Axes>"
      ]
     },
     "metadata": {
      "needs_background": "light"
     },
     "output_type": "display_data"
    }
   ],
   "source": [
    "scatter = plt.figure()\n",
    "ax = scatter.add_subplot(111)\n",
    "ax.scatter(df['age'], df['num_ratings'])\n",
    "ax.set_ylim(0, 1000000)\n",
    "plt.show()"
   ]
  },
  {
   "cell_type": "markdown",
   "metadata": {},
   "source": [
    "## Scatter plot: num_reviews vs age of book"
   ]
  },
  {
   "cell_type": "code",
   "execution_count": 8,
   "metadata": {},
   "outputs": [
    {
     "data": {
      "image/png": "[encoded data removed]",
      "text/plain": [
       "<Figure size 432x288 with 1 Axes>"
      ]
     },
     "metadata": {
      "needs_background": "light"
     },
     "output_type": "display_data"
    }
   ],
   "source": [
    "scatter = plt.figure()\n",
    "ax = scatter.add_subplot(111)\n",
    "ax.scatter(df['age'], df['num_reviews'])\n",
    "ax.set_ylim(0, 75000)\n",
    "plt.show()"
   ]
  },
  {
   "cell_type": "markdown",
   "metadata": {},
   "source": [
    "There's one remarkable outlier which has > 6x as many ratings as the second highest rated book. This book is \"The Hunger Games\" by Suzanne Collins and is just a later edition of the 2008 best-seller. For full entry, see below.\n",
    "\n",
    "Unfortunately, there doesn't appear to be an obvious correlation between the age of a book and its number of reviews or ratings."
   ]
  },
  {
   "cell_type": "code",
   "execution_count": 9,
   "metadata": {},
   "outputs": [
    {
     "name": "stdout",
     "output_type": "stream",
     "text": [
      "883\n",
      "url                      https://www.goodreads.com/book/show/49494289-t...\n",
      "title                                                     The Hunger Games\n",
      "author                                                     Suzanne Collins\n",
      "num_ratings                                                        6154931\n",
      "num_reviews                                                         168431\n",
      "avg_rating                                                            4.33\n",
      "num_pages                                                              387\n",
      "language                                                           English\n",
      "publish_date                                           2019-12-19 00:00:00\n",
      "genres                   ['Teen', 'Young Adult', 'Fantasy', 'Dystopia',...\n",
      "awards                   ['Locus Award Nominee for Best Young Adult Boo...\n",
      "characters               ['Katniss Everdeen', 'Peeta Mellark', 'Cato (H...\n",
      "places                   ['District 12, Panem', 'Capitol, Panem', 'Panem']\n",
      "series                                                 The Hunger Games #1\n",
      "isbn                                                                   NaN\n",
      "isbn13                                                                 NaN\n",
      "rating_histogram         {'5': 3325309, '4': 1855402, '3': 719581, '2':...\n",
      "original_publish_year                                                 2008\n",
      "asin                                                            B002MQYOFW\n",
      "Fiction                                                               True\n",
      "Contemporary                                                         False\n",
      "Romance                                                               True\n",
      "Mystery                                                              False\n",
      "Audiobook                                                            False\n",
      "Thriller                                                             False\n",
      "Adult                                                                False\n",
      "Fantasy                                                               True\n",
      "Young Adult                                                           True\n",
      "Historical                                                           False\n",
      "Historical Fiction                                                   False\n",
      "Mystery Thriller                                                     False\n",
      "Contemporary Romance                                                 False\n",
      "Nonfiction                                                           False\n",
      "Adult Fiction                                                        False\n",
      "Suspense                                                             False\n",
      "Womens Fiction                                                       False\n",
      "Crime                                                                False\n",
      "Literary Fiction                                                     False\n",
      "Chick Lit                                                            False\n",
      "Science Fiction                                                       True\n",
      "Autobiography                                                        False\n",
      "Memoir                                                               False\n",
      "LGBT                                                                 False\n",
      "Paranormal                                                           False\n",
      "Cultural                                                             False\n",
      "New Adult                                                            False\n",
      "War                                                                  False\n",
      "Biography                                                            False\n",
      "Magic                                                                False\n",
      "publish_year                                                          2019\n",
      "publish_month                                                           12\n",
      "publish_day                                                             19\n",
      "num_awards                                                              41\n",
      "age                                                                    161\n",
      "Name: 883, dtype: object\n"
     ]
    }
   ],
   "source": [
    "print(np.argmax(df['num_ratings']))\n",
    "print(df.loc[883][:])"
   ]
  },
  {
   "cell_type": "code",
   "execution_count": null,
   "metadata": {},
   "outputs": [],
   "source": []
  }
 ],
 "metadata": {
  "kernelspec": {
   "display_name": "Python 3",
   "language": "python",
   "name": "python3"
  },
  "language_info": {
   "codemirror_mode": {
    "name": "ipython",
    "version": 3
   },
   "file_extension": ".py",
   "mimetype": "text/x-python",
   "name": "python",
   "nbconvert_exporter": "python",
   "pygments_lexer": "ipython3",
   "version": "3.7.4"
  }
 },
 "nbformat": 4,
 "nbformat_minor": 4
}
