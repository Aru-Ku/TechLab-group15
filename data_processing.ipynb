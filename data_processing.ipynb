{
 "cells": [
  {
   "cell_type": "code",
   "execution_count": 1,
   "metadata": {},
   "outputs": [
    {
     "data": {
      "text/plain": [
       "'\\nCreated on Thu May 28 17:02:30 2020\\n\\n@author: Johannes Heyn, more to come\\n'"
      ]
     },
     "execution_count": 1,
     "metadata": {},
     "output_type": "execute_result"
    }
   ],
   "source": [
    "# -*- coding: utf-8 -*-\n",
    "\"\"\"\n",
    "Created on Thu May 28 17:02:30 2020\n",
    "\n",
    "@author: Johannes Heyn, more to come\n",
    "\"\"\""
   ]
  },
  {
   "cell_type": "code",
   "execution_count": 2,
   "metadata": {},
   "outputs": [],
   "source": [
    "import pandas as pd\n",
    "import numpy as np\n",
    "import os\n",
    "import matplotlib.pyplot as plt\n",
    "import datetime"
   ]
  },
  {
   "cell_type": "code",
   "execution_count": 3,
   "metadata": {},
   "outputs": [],
   "source": [
    "filename = \"all_books_popularByDate.csv\"\n",
    "base_dir = \".\"\n",
    "data_dir = \"data\"\n",
    "fullpath = os.path.join(base_dir, data_dir, filename)"
   ]
  },
  {
   "cell_type": "markdown",
   "metadata": {},
   "source": [
    "# Load and prepare data"
   ]
  },
  {
   "cell_type": "code",
   "execution_count": 4,
   "metadata": {},
   "outputs": [
    {
     "name": "stdout",
     "output_type": "stream",
     "text": [
      "                                                 url               title  \\\n",
      "0  https://www.goodreads.com/book/show/38260251-t...     Tangled Like Us   \n",
      "1  https://www.goodreads.com/book/show/44094817-t...  The Castle Mystery   \n",
      "2  https://www.goodreads.com/book/show/36300682-w...  When You Read This   \n",
      "3  https://www.goodreads.com/book/show/50212494-t...       The Flatshare   \n",
      "4  https://www.goodreads.com/book/show/46006080-t...            Too Many   \n",
      "\n",
      "           author  num_ratings  num_reviews  avg_rating num_pages language  \\\n",
      "0  Krista Ritchie         3506          510        4.08     484.0  English   \n",
      "1      Joyce Cato         2567          153        4.28     219.0  English   \n",
      "2    Mary  Adkins         3079          633        3.58     400.0       []   \n",
      "3    Beth O'Leary        71110        10764        4.13     336.0  English   \n",
      "4     Alexa Riley         2852          268        3.77      71.0       []   \n",
      "\n",
      "          publish_date                                             genres  \\\n",
      "0  2019-01-17 00:00:00  ['New Adult', 'Romance', 'Contemporary Romance...   \n",
      "1  2019-02-27 00:00:00               ['Cozy Mystery', 'Mystery', 'Crime']   \n",
      "2  2019-02-05 00:00:00  ['Chick Lit', 'Fiction', 'Contemporary', 'Wome...   \n",
      "3  2019-04-10 00:00:00  ['Audiobook', 'Chick Lit', 'Fiction', 'Romance...   \n",
      "4  2019-05-23 00:00:00  ['Romance', 'Menage', 'M F M', 'Erotica', 'Adu...   \n",
      "\n",
      "                            characters             series        asin  \\\n",
      "0  ['Jane Cobalt', 'Thatcher Moretti']         Like Us #4  B07JLLFFSX   \n",
      "1                                  NaN  Jenny Starling #4  B07NWV6LVD   \n",
      "2                                  NaN                 []          []   \n",
      "3                                  NaN                 []  B07DCZ7LM4   \n",
      "4                                  NaN      Too Series #2  B07SBHPPN7   \n",
      "\n",
      "                                    rating_histogram original_publish_year  \\\n",
      "0  {'5': 1483, '4': 1164, '3': 611, '2': 159, '1'...                    []   \n",
      "1  {'5': 1250, '4': 878, '3': 365, '2': 59, '1': 15}                2012.0   \n",
      "2  {'5': 434, '4': 1267, '3': 1082, '2': 257, '1'...                    []   \n",
      "3  {'5': 26969, '4': 29723, '3': 11643, '2': 2121...                    []   \n",
      "4  {'5': 957, '4': 772, '3': 737, '2': 275, '1': ...                    []   \n",
      "\n",
      "         isbn           isbn13  \\\n",
      "0          []               []   \n",
      "1          []               []   \n",
      "2  62834703.0  9780062834706.0   \n",
      "3          []               []   \n",
      "4          []               []   \n",
      "\n",
      "                                              awards places  \n",
      "0                                                 []     []  \n",
      "1                                                 []     []  \n",
      "2                                                 []     []  \n",
      "3  ['Goodreads Choice Award Nominee for Romance (...     []  \n",
      "4                                                 []     []  \n",
      "Index(['url', 'title', 'author', 'num_ratings', 'num_reviews', 'avg_rating',\n",
      "       'num_pages', 'language', 'publish_date', 'genres', 'characters',\n",
      "       'series', 'asin', 'rating_histogram', 'original_publish_year', 'isbn',\n",
      "       'isbn13', 'awards', 'places'],\n",
      "      dtype='object')\n",
      "<class 'pandas.core.frame.DataFrame'>\n",
      "RangeIndex: 4620 entries, 0 to 4619\n",
      "Data columns (total 19 columns):\n",
      " #   Column                 Non-Null Count  Dtype  \n",
      "---  ------                 --------------  -----  \n",
      " 0   url                    4620 non-null   object \n",
      " 1   title                  4620 non-null   object \n",
      " 2   author                 4620 non-null   object \n",
      " 3   num_ratings            4620 non-null   int64  \n",
      " 4   num_reviews            4620 non-null   int64  \n",
      " 5   avg_rating             4620 non-null   float64\n",
      " 6   num_pages              4413 non-null   object \n",
      " 7   language               4297 non-null   object \n",
      " 8   publish_date           4615 non-null   object \n",
      " 9   genres                 4556 non-null   object \n",
      " 10  characters             312 non-null    object \n",
      " 11  series                 4061 non-null   object \n",
      " 12  asin                   3767 non-null   object \n",
      " 13  rating_histogram       3712 non-null   object \n",
      " 14  original_publish_year  3759 non-null   object \n",
      " 15  isbn                   4245 non-null   object \n",
      " 16  isbn13                 4349 non-null   object \n",
      " 17  awards                 3632 non-null   object \n",
      " 18  places                 3658 non-null   object \n",
      "dtypes: float64(1), int64(2), object(16)\n",
      "memory usage: 685.9+ KB\n",
      "None\n"
     ]
    }
   ],
   "source": [
    "df = pd.read_csv(fullpath)\n",
    "print(df.head())\n",
    "print(df.columns)\n",
    "print(df.info())"
   ]
  },
  {
   "cell_type": "code",
   "execution_count": 5,
   "metadata": {},
   "outputs": [
    {
     "name": "stdout",
     "output_type": "stream",
     "text": [
      "<bound method DataFrame.info of                                                     url               title  \\\n",
      "0     https://www.goodreads.com/book/show/38260251-t...     Tangled Like Us   \n",
      "1     https://www.goodreads.com/book/show/44094817-t...  The Castle Mystery   \n",
      "2     https://www.goodreads.com/book/show/36300682-w...  When You Read This   \n",
      "3     https://www.goodreads.com/book/show/50212494-t...       The Flatshare   \n",
      "4     https://www.goodreads.com/book/show/46006080-t...            Too Many   \n",
      "...                                                 ...                 ...   \n",
      "4615  https://www.goodreads.com/book/show/52878453-d...  Death in Her Hands   \n",
      "4616  https://www.goodreads.com/book/show/51933429-t...      The Guest List   \n",
      "4617  https://www.goodreads.com/book/show/51791252-t...  The Vanishing Half   \n",
      "4618  https://www.goodreads.com/book/show/50833559-h...    Home Before Dark   \n",
      "4619  https://www.goodreads.com/book/show/53152636-m...      Mexican Gothic   \n",
      "\n",
      "                    author  num_ratings  num_reviews  avg_rating num_pages  \\\n",
      "0           Krista Ritchie         3506          510        4.08     484.0   \n",
      "1               Joyce Cato         2567          153        4.28     219.0   \n",
      "2             Mary  Adkins         3079          633        3.58     400.0   \n",
      "3             Beth O'Leary        71110        10764        4.13     336.0   \n",
      "4              Alexa Riley         2852          268        3.77      71.0   \n",
      "...                    ...          ...          ...         ...       ...   \n",
      "4615      Ottessa Moshfegh          472          162        3.47     272.0   \n",
      "4616            Lucy Foley        17216         3152        4.01     320.0   \n",
      "4617          Brit Bennett          346          140        4.38     352.0   \n",
      "4618           Riley Sager          415          246        4.23     384.0   \n",
      "4619  Silvia Moreno-Garcia          423          252        4.19     352.0   \n",
      "\n",
      "     language         publish_date  \\\n",
      "0     English  2019-01-17 00:00:00   \n",
      "1     English  2019-02-27 00:00:00   \n",
      "2          []  2019-02-05 00:00:00   \n",
      "3     English  2019-04-10 00:00:00   \n",
      "4          []  2019-05-23 00:00:00   \n",
      "...       ...                  ...   \n",
      "4615      NaN  2020-06-23 00:00:00   \n",
      "4616  English  2020-06-02 00:00:00   \n",
      "4617      NaN  2020-06-02 00:00:00   \n",
      "4618  English  2020-06-30 00:00:00   \n",
      "4619  English  2020-06-30 00:00:00   \n",
      "\n",
      "                                                 genres  \\\n",
      "0     ['New Adult', 'Romance', 'Contemporary Romance...   \n",
      "1                  ['Cozy Mystery', 'Mystery', 'Crime']   \n",
      "2     ['Chick Lit', 'Fiction', 'Contemporary', 'Wome...   \n",
      "3     ['Audiobook', 'Chick Lit', 'Fiction', 'Romance...   \n",
      "4     ['Romance', 'Menage', 'M F M', 'Erotica', 'Adu...   \n",
      "...                                                 ...   \n",
      "4615  ['Thriller', 'Mystery', 'Mystery Thriller', 'L...   \n",
      "4616  ['Thriller', 'Fiction', 'Mystery Thriller', 'M...   \n",
      "4617    ['Historical Fiction', 'Fiction', 'Historical']   \n",
      "4618  ['Horror', 'Thriller', 'Psychological Thriller...   \n",
      "4619  ['Historical Fiction', 'Fiction', 'Horror', 'H...   \n",
      "\n",
      "                               characters             series        asin  \\\n",
      "0     ['Jane Cobalt', 'Thatcher Moretti']         Like Us #4  B07JLLFFSX   \n",
      "1                                     NaN  Jenny Starling #4  B07NWV6LVD   \n",
      "2                                     NaN                 []          []   \n",
      "3                                     NaN                 []  B07DCZ7LM4   \n",
      "4                                     NaN      Too Series #2  B07SBHPPN7   \n",
      "...                                   ...                ...         ...   \n",
      "4615                                  NaN                NaN         NaN   \n",
      "4616                                  NaN                NaN         NaN   \n",
      "4617                                  NaN                NaN         NaN   \n",
      "4618                                  NaN                NaN         NaN   \n",
      "4619                                  NaN                NaN         NaN   \n",
      "\n",
      "                                       rating_histogram original_publish_year  \\\n",
      "0     {'5': 1483, '4': 1164, '3': 611, '2': 159, '1'...                    []   \n",
      "1     {'5': 1250, '4': 878, '3': 365, '2': 59, '1': 15}                2012.0   \n",
      "2     {'5': 434, '4': 1267, '3': 1082, '2': 257, '1'...                    []   \n",
      "3     {'5': 26969, '4': 29723, '3': 11643, '2': 2121...                    []   \n",
      "4     {'5': 957, '4': 772, '3': 737, '2': 275, '1': ...                    []   \n",
      "...                                                 ...                   ...   \n",
      "4615    {'5': 75, '4': 170, '3': 147, '2': 61, '1': 19}                   NaN   \n",
      "4616  {'5': 5143, '4': 7976, '3': 3375, '2': 582, '1...                2020.0   \n",
      "4617      {'5': 191, '4': 119, '3': 21, '2': 6, '1': 9}                   NaN   \n",
      "4618     {'5': 193, '4': 157, '3': 38, '2': 21, '1': 6}                   NaN   \n",
      "4619    {'5': 190, '4': 159, '3': 48, '2': 16, '1': 10}                   NaN   \n",
      "\n",
      "              isbn           isbn13  \\\n",
      "0               []               []   \n",
      "1               []               []   \n",
      "2       62834703.0  9780062834706.0   \n",
      "3               []               []   \n",
      "4               []               []   \n",
      "...            ...              ...   \n",
      "4615  1984879359.0  9781984879356.0   \n",
      "4616    62868934.0  9780062868930.0   \n",
      "4617   525536299.0  9780525536291.0   \n",
      "4618  1524745170.0  9781524745172.0   \n",
      "4619   525620788.0  9780525620785.0   \n",
      "\n",
      "                                                 awards             places  \\\n",
      "0                                                    []                 []   \n",
      "1                                                    []                 []   \n",
      "2                                                    []                 []   \n",
      "3     ['Goodreads Choice Award Nominee for Romance (...                 []   \n",
      "4                                                    []                 []   \n",
      "...                                                 ...                ...   \n",
      "4615                                                NaN                NaN   \n",
      "4616                                                NaN                NaN   \n",
      "4617                                                NaN                NaN   \n",
      "4618                                                NaN                NaN   \n",
      "4619                                                NaN  ['Hidalgo State']   \n",
      "\n",
      "        age  \n",
      "0     498.0  \n",
      "1     457.0  \n",
      "2     479.0  \n",
      "3     415.0  \n",
      "4     372.0  \n",
      "...     ...  \n",
      "4615  -25.0  \n",
      "4616   -4.0  \n",
      "4617   -4.0  \n",
      "4618  -32.0  \n",
      "4619  -32.0  \n",
      "\n",
      "[4620 rows x 20 columns]>\n"
     ]
    }
   ],
   "source": [
    "df['pd_aux'] = pd.to_datetime(df['publish_date'], format = '%Y-%m-%d %H:%M:%S', errors = 'coerce')\n",
    "date_time_now = datetime.datetime.now()\n",
    "age = date_time_now - df['pd_aux']\n",
    "age = age.apply(lambda x: x.days)\n",
    "df['age'] = age\n",
    "df = df.drop('pd_aux', axis = 1)\n",
    "print(df.info)"
   ]
  },
  {
   "cell_type": "code",
   "execution_count": 6,
   "metadata": {},
   "outputs": [
    {
     "name": "stdout",
     "output_type": "stream",
     "text": [
      "url                      https://www.goodreads.com/book/show/50209349-u...\n",
      "title                                       Unti Swanson Novel #7: A Novel\n",
      "author                                                      Peter  Swanson\n",
      "num_ratings                                                              0\n",
      "num_reviews                                                              0\n",
      "avg_rating                                                               0\n",
      "num_pages                                                            320.0\n",
      "language                                                                []\n",
      "publish_date                                                            []\n",
      "genres                                                                  []\n",
      "characters                                                             NaN\n",
      "series                                                                  []\n",
      "asin                                                                    []\n",
      "rating_histogram                                                       NaN\n",
      "original_publish_year                                                   []\n",
      "isbn                                                                    []\n",
      "isbn13                                                     9780062980052.0\n",
      "awards                                                                  []\n",
      "places                                                                  []\n",
      "age                                                                    NaN\n",
      "Name: 8, dtype: object\n"
     ]
    }
   ],
   "source": [
    "#print(df[['publish_date', 'age']])\n",
    "#print(min(df['age']))\n",
    "print(df.loc[8][:])"
   ]
  },
  {
   "cell_type": "markdown",
   "metadata": {},
   "source": [
    "# Explore data\n",
    "## Scatter plot: num_ratings vs age of book"
   ]
  },
  {
   "cell_type": "code",
   "execution_count": 7,
   "metadata": {},
   "outputs": [
    {
     "data": {
      "image/png": "[encoded data removed]",
      "text/plain": [
       "<Figure size 432x288 with 1 Axes>"
      ]
     },
     "metadata": {
      "needs_background": "light"
     },
     "output_type": "display_data"
    }
   ],
   "source": [
    "scatter = plt.figure()\n",
    "ax = scatter.add_subplot(111)\n",
    "ax.scatter(df['age'], df['num_ratings'])\n",
    "ax.set_ylim(0, 1000000)\n",
    "plt.show()"
   ]
  },
  {
   "cell_type": "markdown",
   "metadata": {},
   "source": [
    "## Scatter plot: num_reviews vs age of book"
   ]
  },
  {
   "cell_type": "code",
   "execution_count": 8,
   "metadata": {},
   "outputs": [
    {
     "data": {
      "image/png": "[encoded data removed]",
      "text/plain": [
       "<Figure size 432x288 with 1 Axes>"
      ]
     },
     "metadata": {
      "needs_background": "light"
     },
     "output_type": "display_data"
    }
   ],
   "source": [
    "scatter = plt.figure()\n",
    "ax = scatter.add_subplot(111)\n",
    "ax.scatter(df['age'], df['num_reviews'])\n",
    "ax.set_ylim(0, 75000)\n",
    "plt.show()"
   ]
  },
  {
   "cell_type": "markdown",
   "metadata": {},
   "source": [
    "There's one remarkable outlier which has > 6x as many ratings as the second highest rated book. This book is \"The Hunger Games\" by Suzanne Collins and is just a later edition of the 2008 best-seller. For full entry, see below.\n",
    "\n",
    "Unfortunately, there doesn't appear to be an obvious correlation between the age of a book and its number of reviews or ratings."
   ]
  },
  {
   "cell_type": "code",
   "execution_count": 9,
   "metadata": {},
   "outputs": [
    {
     "name": "stdout",
     "output_type": "stream",
     "text": [
      "url                      https://www.goodreads.com/book/show/49494289-t...\n",
      "title                                                     The Hunger Games\n",
      "author                                                     Suzanne Collins\n",
      "num_ratings                                                        6154931\n",
      "num_reviews                                                         168431\n",
      "avg_rating                                                            4.33\n",
      "num_pages                                                            387.0\n",
      "language                                                           English\n",
      "publish_date                                           2019-12-19 00:00:00\n",
      "genres                   ['Teen', 'Young Adult', 'Fantasy', 'Dystopia',...\n",
      "characters               ['Katniss Everdeen', 'Peeta Mellark', 'Cato (H...\n",
      "series                                                 The Hunger Games #1\n",
      "asin                                                            B002MQYOFW\n",
      "rating_histogram         {'5': 3325309, '4': 1855402, '3': 719581, '2':...\n",
      "original_publish_year                                               2008.0\n",
      "isbn                                                                    []\n",
      "isbn13                                                                  []\n",
      "awards                   ['Locus Award Nominee for Best Young Adult Boo...\n",
      "places                   ['District 12, Panem', 'Capitol, Panem', 'Panem']\n",
      "age                                                                    162\n",
      "Name: 3291, dtype: object\n"
     ]
    }
   ],
   "source": [
    "print(df.loc[np.argmax(df['num_ratings'])][:])"
   ]
  },
  {
   "cell_type": "code",
   "execution_count": null,
   "metadata": {},
   "outputs": [],
   "source": []
  }
 ],
 "metadata": {
  "kernelspec": {
   "display_name": "Python 3",
   "language": "python",
   "name": "python3"
  },
  "language_info": {
   "codemirror_mode": {
    "name": "ipython",
    "version": 3
   },
   "file_extension": ".py",
   "mimetype": "text/x-python",
   "name": "python",
   "nbconvert_exporter": "python",
   "pygments_lexer": "ipython3",
   "version": "3.7.4"
  }
 },
 "nbformat": 4,
 "nbformat_minor": 4
}
