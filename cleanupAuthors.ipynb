{
 "cells": [
  {
   "cell_type": "code",
   "execution_count": null,
   "metadata": {},
   "outputs": [],
   "source": [
    "# -*- coding: utf-8 -*-\n",
    "\"\"\"\n",
    "Created on Fri May 29 13:57:27 2020\n",
    "\n",
    "@author: Johannes Heyn\n",
    "\"\"\""
   ]
  },
  {
   "cell_type": "code",
   "execution_count": 1,
   "metadata": {},
   "outputs": [],
   "source": [
    "from cleanup import replace_missing_list_column_values, one_hot_encode_genres, breakdown_publish_date\n",
    "import pandas as pd"
   ]
  },
  {
   "cell_type": "code",
   "execution_count": 3,
   "metadata": {},
   "outputs": [],
   "source": [
    "filenames = [\"data/author_best_books_01_02.jl\"]\n",
    "output = \"data/author_best_books_01_02.csv\""
   ]
  },
  {
   "cell_type": "code",
   "execution_count": 5,
   "metadata": {},
   "outputs": [
    {
     "name": "stdout",
     "output_type": "stream",
     "text": [
      "                                                 url              name  \\\n",
      "0  https://www.goodreads.com/author/show/3706.Geo...     George Orwell   \n",
      "1  https://www.goodreads.com/author/show/941441.S...   Stephenie Meyer   \n",
      "2  https://www.goodreads.com/author/show/1265.Jan...       Jane Austen   \n",
      "3  https://www.goodreads.com/author/show/4.Dougla...     Douglas Adams   \n",
      "4  https://www.goodreads.com/author/show/435477.S...  Shel Silverstein   \n",
      "\n",
      "            birth_date           death_date  \\\n",
      "0  1903-06-25 00:00:00  1950-01-21 00:00:00   \n",
      "1  1973-12-24 00:00:00                  NaN   \n",
      "2  1775-12-16 00:00:00  1817-07-18 00:00:00   \n",
      "3  1952-03-11 00:00:00  2001-05-11 00:00:00   \n",
      "4  1930-09-25 00:00:00  1999-05-10 00:00:00   \n",
      "\n",
      "                                              genres  \\\n",
      "0                    [Politics, Fiction, Journalism]   \n",
      "1  [Science Fiction & Fantasy, Paranormal Romance...   \n",
      "2               [Romance, Fiction, Humor and Comedy]   \n",
      "3                  [Humor, Mystery, Science Fiction]   \n",
      "4                         [Children's Books, Poetry]   \n",
      "\n",
      "                                          influences  avg_rating  num_reviews  \\\n",
      "0  [Gustave Flaubert, Charles Dickens, Wells, Gus...        4.07       135740   \n",
      "1                                                NaN        3.65       315113   \n",
      "2                      [ Mary Brunton, Fanny Burney]        4.12       163060   \n",
      "3  [Jane Au, Kurt Vonnegut, Charles Dickens, P. G...        4.20        57982   \n",
      "4                                                NaN        4.33        36769   \n",
      "\n",
      "   num_ratings                                              about  \n",
      "0      5960761  Eric Arthur Blair, better known by his pen nam...  \n",
      "1     10429087  I was born in Connecticut in 1973, during a br...  \n",
      "2      5809748  Jane Austen was an English novelist whose work...  \n",
      "3      2641968  Douglas Noël Adams was an English author, comi...  \n",
      "4      2593537  Shel Silverstein was the author-artist of many...  \n"
     ]
    }
   ],
   "source": [
    "dfs = [pd.read_json(filename, lines=True) for filename in filenames]\n",
    "df = pd.concat(dfs)\n",
    "df = df.drop_duplicates(subset=['url'])\n",
    "print(df.head())"
   ]
  },
  {
   "cell_type": "code",
   "execution_count": 6,
   "metadata": {},
   "outputs": [
    {
     "name": "stdout",
     "output_type": "stream",
     "text": [
      "<class 'pandas.core.frame.DataFrame'>\n",
      "Int64Index: 153 entries, 0 to 152\n",
      "Data columns (total 9 columns):\n",
      " #   Column       Non-Null Count  Dtype  \n",
      "---  ------       --------------  -----  \n",
      " 0   url          153 non-null    object \n",
      " 1   name         153 non-null    object \n",
      " 2   birth_date   116 non-null    object \n",
      " 3   death_date   89 non-null     object \n",
      " 4   genres       149 non-null    object \n",
      " 5   influences   72 non-null     object \n",
      " 6   avg_rating   153 non-null    float64\n",
      " 7   num_reviews  153 non-null    int64  \n",
      " 8   num_ratings  153 non-null    int64  \n",
      "dtypes: float64(1), int64(2), object(6)\n",
      "memory usage: 12.0+ KB\n",
      "None\n"
     ]
    }
   ],
   "source": [
    "df = df.drop('about', axis=1)\n",
    "print(df.info())"
   ]
  },
  {
   "cell_type": "code",
   "execution_count": 7,
   "metadata": {},
   "outputs": [
    {
     "name": "stdout",
     "output_type": "stream",
     "text": [
      "Help on function one_hot_encode_genres in module cleanup:\n",
      "\n",
      "one_hot_encode_genres(df, k=30)\n",
      "    One-hot encodes genres as columns, retaining the k most common genres.\n",
      "    \n",
      "    Mutates the dataframe in place.\n",
      "\n"
     ]
    }
   ],
   "source": [
    "help(one_hot_encode_genres)"
   ]
  },
  {
   "cell_type": "code",
   "execution_count": null,
   "metadata": {},
   "outputs": [],
   "source": [
    "replace_missing_list_column_values(df, 'birth_date')\n",
    "replace_missing_list_column_values(df, 'death_date')\n",
    "replace_missing_list_column_values(df, 'genres')\n",
    "replace_missing_list_column_values(df, 'influences')\n",
    "\n",
    "#one_hot_encode_genres(df)\n",
    "#breakdown_publish_date(df)\n",
    "\n",
    "#df['num_awards'] = df['awards'].apply(len)\n",
    "\n",
    "print(df.head())"
   ]
  },
  {
   "cell_type": "code",
   "execution_count": null,
   "metadata": {},
   "outputs": [],
   "source": [
    "df.to_csv(output, index=False)"
   ]
  }
 ],
 "metadata": {
  "kernelspec": {
   "display_name": "Python 3",
   "language": "python",
   "name": "python3"
  },
  "language_info": {
   "codemirror_mode": {
    "name": "ipython",
    "version": 3
   },
   "file_extension": ".py",
   "mimetype": "text/x-python",
   "name": "python",
   "nbconvert_exporter": "python",
   "pygments_lexer": "ipython3",
   "version": "3.7.4"
  }
 },
 "nbformat": 4,
 "nbformat_minor": 4
}
